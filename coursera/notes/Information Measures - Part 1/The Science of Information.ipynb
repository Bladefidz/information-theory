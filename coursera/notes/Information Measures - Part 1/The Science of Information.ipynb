{
 "cells": [
  {
   "cell_type": "markdown",
   "metadata": {},
   "source": [
    "# Information Measure"
   ]
  },
  {
   "cell_type": "markdown",
   "metadata": {},
   "source": [
    "Information Theory founded by [Claude E. Shannon](https://en.wikipedia.org/wiki/Claude_Shannon) from his paper [The Mathematical Theory of Communication](http://math.harvard.edu/~ctm/home/text/others/shannon/entropy/entropy.pdf) at 1948. The information theory study fundamental limits in communications: Transmission, storage, etc."
   ]
  },
  {
   "cell_type": "markdown",
   "metadata": {},
   "source": [
    "The image below taken from his paper show the \"Basic Communication System\":"
   ]
  },
  {
   "attachments": {},
   "cell_type": "markdown",
   "metadata": {},
   "source": [
    "![basic-communication-system.png](images/basic-communication-system.png)"
   ]
  },
  {
   "cell_type": "markdown",
   "metadata": {},
   "source": [
    "There are two key concept of information theory:\n",
    "\n",
    "1. Information is **uncertainty**, so it is modeled as random variables.\n",
    "\n",
    "2. Information is **digital**, so transformation should be 0's and 1's (bits) with no reference to what they represent."
   ]
  },
  {
   "cell_type": "markdown",
   "metadata": {},
   "source": [
    "There are two fundamental theorems:\n",
    "\n",
    "1. **Source coding theorem** tells us that there are fundamental limit in data compression, e.g zip for text, MP3 for audio, JPEG for image, and MPEG for video. The idea is how smart the encoding algorithm is, there is always a minimum size that the file can be compressed.\n",
    "\n",
    "2. **Channel coding theorem** tells us that fundamental limit for reliable communication through a noisy channel, e.g telephone, cell phone, modem, data storage, etc. The idea is how smart the communication (system) is designed, for reliable communication, there exists a maximum rate that information can be transmitted through the channel. This quantity is called the **channel capacity**."
   ]
  }
 ],
 "metadata": {
  "kernelspec": {
   "display_name": "Python 3",
   "language": "python",
   "name": "python3"
  },
  "language_info": {
   "codemirror_mode": {
    "name": "ipython",
    "version": 3
   },
   "file_extension": ".py",
   "mimetype": "text/x-python",
   "name": "python",
   "nbconvert_exporter": "python",
   "pygments_lexer": "ipython3",
   "version": "3.6.5"
  }
 },
 "nbformat": 4,
 "nbformat_minor": 2
}
