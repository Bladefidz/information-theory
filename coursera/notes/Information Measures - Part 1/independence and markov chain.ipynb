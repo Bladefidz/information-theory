{
 "cells": [
  {
   "cell_type": "markdown",
   "metadata": {},
   "source": [
    "# Independence and Markov Chain"
   ]
  },
  {
   "cell_type": "markdown",
   "metadata": {},
   "source": [
    "## Notations"
   ]
  },
  {
   "cell_type": "markdown",
   "metadata": {},
   "source": [
    "$X$ is *discrete random variable* takin values in $\\mathcal{X}$\n",
    "    \n",
    "${p_X(\\mathcal{x})}$ is probability distribution for $X$\n",
    "    \n",
    "$S_X$ is *support* of $X$, i.e., $\\{\\mathcal{x} \\in \\mathcal{X}\\; |\\; p_X(\\mathcal{x}>0)\\}$"
   ]
  },
  {
   "cell_type": "markdown",
   "metadata": {},
   "source": [
    "- If $S_X = \\mathcal{X}$, we say that $p$ is *strictly positive*.\n",
    "\n",
    "- Non-strictly poitive distributions are *dangerous* -- see proposition 2.12"
   ]
  },
  {
   "cell_type": "markdown",
   "metadata": {},
   "source": [
    "## Independence"
   ]
  },
  {
   "cell_type": "markdown",
   "metadata": {},
   "source": [
    "### Definitions"
   ]
  },
  {
   "cell_type": "markdown",
   "metadata": {},
   "source": [
    "**Definition 2.1** Two random variables $X$ and $Y$ are independent, denoted by $X\\, \\perp\\, Y$, if:\n",
    "\n",
    "  $$p(x, y) = p(x)p(y)$$\n",
    "\n",
    "for all $x$ and $y$ (i.e., for all $(x,y) \\in \\mathcal{X}\\, \\times\\, \\mathcal{Y}$)"
   ]
  },
  {
   "cell_type": "markdown",
   "metadata": {},
   "source": [
    "**Deinition 2.2 (Mutual Independence)** For $n \\geq 3$, random variables $X_1, X_2, ..., X_n$ are mutually independent if\n",
    "\n",
    "  $$p(x_1, x_2, ..., x_n) = p(x_1)p(x_2)...p(x_n)$$\n",
    "\n",
    "for all $x_1, x_2, ..., x_n$"
   ]
  },
  {
   "cell_type": "markdown",
   "metadata": {},
   "source": [
    "**Definition 2.3 (Pairwise Independence)** For $x \\geq 3$, random variables $X_1, X_2, ..., X_n$ are pairwise independece if $X_i$ and $X_j$ are independent for all $1 \\leq 1 < j \\leq n$."
   ]
  },
  {
   "cell_type": "markdown",
   "metadata": {},
   "source": [
    "**Definition 2.4 (Conditional Independence)** For random variables $X, Y, \\text{and}\\, Z$. $X$ is independent of $Z$ conditioning on $Y$, denoted by $X\\, \\perp\\, Z\\, |\\, Y$, if\n",
    "\n",
    "  $$p(x, y, z) = \\begin{cases}\n",
    "      \\dfrac{p(x,y)p(y,z)}{p(y)}& \\text{if}\\, p(y)>0\\\\\n",
    "      0& \\text{otherwise}\n",
    "  \\end{cases}$$\n",
    "\n",
    "*Remark*\n",
    "\n",
    "- If $p(y)>0$, then:\n",
    "\n",
    "  $$p(x,y,z) = \\frac{p(x,y)p(y,z)}{p(y)} = p(x,y)p(z|y)$$\n",
    "\n",
    "- Conceptually, when $X\\, \\perp\\, Z\\, |\\, Y$. $X, Y, \\text{and}\\, Z$ are related as follows:\n",
    "\n",
    "  ![independence-concept](images/indepence-concept.png)\n",
    "\n",
    "  $$p(x,y,z)=p(x)p(y|x)p(z|y)=p(x,y)p(z|y)$$"
   ]
  },
  {
   "cell_type": "markdown",
   "metadata": {},
   "source": [
    "### Propositions"
   ]
  },
  {
   "cell_type": "markdown",
   "metadata": {},
   "source": [
    "**Proposition 2.5** For random variables $X, Y, \\text{and}\\, Z$. $X\\, \\perp\\, Z\\, |\\, Y$ if and only if\n",
    "\n",
    "  $$p(x,y,z)=a(x,y)b(y,z)$$\n",
    "\n",
    "for all $x,y,\\text{and}\\, z$ that $p(y)>0$."
   ]
  },
  {
   "cell_type": "markdown",
   "metadata": {},
   "source": [
    "**Proof**\n",
    "\n",
    "A. 'Only if'\n",
    "\n",
    "  1. Assume $p(x,y,z)$ takes the form in Definiton 2.4.\n",
    "\n",
    "  2. For all $x$ and for all $y$ such that $p(y)>0$, let:\n",
    "\n",
    "     $$a(x,y) = \\frac{p(x,y)}{p(y)}$$\n",
    "\n",
    "  3. For all $y$ such that $p(y)>0$ and for all $z$ let:\n",
    "\n",
    "     $$b(x,y) = p(y,z)$$\n",
    "\n",
    "  4. Then (1) and hence the 'only if' part is proved.\n",
    "\n",
    "  5. Note that the choice of $a(x,y)$ and $b(y,z)$ is not unique. For example, one can choose:\n",
    "\n",
    "      $$a(x,y)=p(x,y) \\qquad and \\qquad b(y,z) = \\frac{p(y,z)}{p(y)}$$"
   ]
  },
  {
   "cell_type": "markdown",
   "metadata": {},
   "source": [
    "B. 'If'\n",
    "\n",
    "Refer to Definition 2.4\n",
    "\n",
    "  1. Assume\n",
    "  \n",
    "       $$p(x,y,z)=a(x,y)b(y,z)$$\n",
    "     \n",
    "     for all $x,y,\\text{and}\\, z$ such that $p(y)>0$.\n",
    "     \n",
    "  2. Then for such $x,y, \\text{and}\\, z$, we have\n",
    "  \n",
    "       $$\\eqalign{\n",
    "         p(x,y) &= \\sum_z p(x,y,z)\\\\\n",
    "                &= \\sum_z a(x,y)b(y,z)\\\\\n",
    "                &= a(x,y) \\sum_z b(y,z)\n",
    "       }$$\n",
    "       \n",
    "  3. Similarly,\n",
    "  \n",
    "       $$\\eqalign{\n",
    "         p(y,z) &= \\sum_x p(x,y,z)\\\\\n",
    "                &= \\sum_x a(x,y)b(y,z)\\\\\n",
    "                &= b(y,z) \\sum_x a(x,y)\n",
    "       }$$\n",
    "       \n",
    "  4. Furhermore,\n",
    "  \n",
    "      $$\\eqalign{\n",
    "        p(y) = \\sum_z p(y,z) = \\big(\\sum_x a(x,y)\\big)\\big(\\sum_z b(y,z)\\big) > 0\n",
    "      }$$\n",
    "      \n",
    "  5. Therefore,\n",
    "  \n",
    "      $$\\eqalign{\n",
    "        \\frac{p(x,y)p(y,z)}{p(y)} &= \\frac{\\big(a(x,y)\\sum_z b(y,z)\\big)\\big(b(y,z)\\sum_x a(x,y)\\big)}{\\big(\\sum_x a(x,y)\\big)\\big(\\sum_z b(y,z)\\big)}\\\\\n",
    "        &= a(x,y)b(y,z)\\\\\n",
    "        &= p(x,y,z)\n",
    "      }$$\n",
    "      \n",
    "  6. For $x,y, \\text{and}\\, z$ such that $p(y)=0$, since\n",
    "  \n",
    "      $$0 \\leq p(x,y,z) \\leq p(y) = 0$$\n",
    "      \n",
    "     we have,\n",
    "      \n",
    "      $$p(x,y,z)=0$$\n",
    "     \n",
    "  7. Hence, $X \\perp Z|Y$ according to Definiton 2.4."
   ]
  },
  {
   "cell_type": "markdown",
   "metadata": {},
   "source": [
    "## Markov Chain"
   ]
  },
  {
   "cell_type": "markdown",
   "metadata": {},
   "source": [
    "### Definitions"
   ]
  },
  {
   "cell_type": "markdown",
   "metadata": {},
   "source": [
    "**Definition 2.6 (Markov Chain)** For random variables $X_1, X_2, ..., X_3$, where $n \\geq 3$, $X_1 \\rightarrow X_2 \\rightarrow ... \\rightarrow X_n$ forms a Markov Chain if\n",
    "\n",
    "  $$p(x_1, x_2, ..., x_n) = \\begin{cases}\n",
    "    p(x_1,x_2)p(x_3|x_2)...p(x_n|x_{n-1}),& \\text{if}\\, p(x_2),p(x_3),...,p(x_{n-1})>0\\\\\n",
    "    0,& \\text{oherwise}\n",
    "  \\end{cases}$$\n",
    "  \n",
    "**Remark** $X_1 \\rightarrow X_2 \\rightarrow X_3$ is equivalent to $X_1 \\perp X_3 | X_2$"
   ]
  },
  {
   "cell_type": "markdown",
   "metadata": {},
   "source": [
    "### Propositions"
   ]
  },
  {
   "cell_type": "markdown",
   "metadata": {},
   "source": [
    "**Proposition 2.7** $X_1 \\rightarrow X_2 \\rightarrow ... \\rightarrow X_n$ forms a Markov Chain if and only if $X_n \\rightarrow X_{n-1} \\rightarrow ... \\rightarrow X_1$ forms a Markov Chain."
   ]
  },
  {
   "cell_type": "markdown",
   "metadata": {},
   "source": [
    "**Proposition 2.8** $X_1 \\rightarrow X_2 \\rightarrow ... \\rightarrow X_n$ forms a Markov Chain if and only if\n",
    "\n",
    "  $$X_1 \\rightarrow X_2 \\rightarrow X_3\\\\\n",
    "  (X_1,X_2) \\rightarrow X_3 \\rightarrow X_4\\\\\n",
    "  .\\\\\n",
    "  .\\\\\n",
    "  .\\\\\n",
    "  (X_1,X_2,...,X_{n-2}) \\rightarrow X_{n-1} \\rightarrow X_n$$\n",
    "  \n",
    "form Markov Chains."
   ]
  },
  {
   "cell_type": "markdown",
   "metadata": {},
   "source": [
    "**Proposition 2.9** $X_1 \\rightarrow X_2 \\rightarrow ... \\rightarrow X_n$ forms a Markov Chain if and only if\n",
    "\n",
    "  $$p(x_1,x_2,...,x_n) = f_1(x_1,x_2)f_2(x_2,x_3)...f_{n-1}(x_{n-1},x_n)$$\n",
    "  \n",
    "for all $x_1,x_2,...,x_n$ such that $p(x_2),p(x_3),...,p(x_{n-1})>0$"
   ]
  },
  {
   "cell_type": "markdown",
   "metadata": {},
   "source": [
    "**Proposition 2.10 (Markov subchains)** Let $\\mathcal{N}_n = \\{1,2,...n\\}$ and let $X_1 \\rightarrow X_2 \\rightarrow ... \\rightarrow X_n$ form a Markov Chain. For any subset $\\alpha$ of $\\mathcal{N}_n$, denote $(X_i, i \\in \\alpha)$ by $X_{\\alpha}$. Then for any disjoint subsets $\\alpha_1, \\alpha_2, ..., \\alpha_m$ of $\\mathcal{N}_n$ such that\n",
    "\n",
    "  $$k_1 < k_2 < ...  k_m$$\n",
    "  \n",
    "for all $k_j \\in \\alpha_j, j = 1,2,...,m$,\n",
    "\n",
    "  $$X_{\\alpha_1} \\rightarrow X_{\\alpha_2} \\rightarrow ... \\rightarrow X_{\\alpha_m}$$\n",
    "  \n",
    "forms a Markov Chain. That is, a subchain of $X_1 \\rightarrow X_2 \\rightarrow ... \\rightarrow X_n$ is also a Markov Chain."
   ]
  }
 ],
 "metadata": {
  "kernelspec": {
   "display_name": "Python 3",
   "language": "python",
   "name": "python3"
  },
  "language_info": {
   "codemirror_mode": {
    "name": "ipython",
    "version": 3
   },
   "file_extension": ".py",
   "mimetype": "text/x-python",
   "name": "python",
   "nbconvert_exporter": "python",
   "pygments_lexer": "ipython3",
   "version": "3.6.5"
  }
 },
 "nbformat": 4,
 "nbformat_minor": 2
}
