{
 "cells": [
  {
   "cell_type": "markdown",
   "metadata": {},
   "source": [
    "# Independence and Markov Chain"
   ]
  },
  {
   "cell_type": "markdown",
   "metadata": {},
   "source": [
    "**Notations**\n",
    "\n",
    "$X$ is *discrete random variable* takin values in $\\mathcal{X}$\n",
    "    \n",
    "${p_X(\\mathcal{x})}$ is probability distribution for $X$\n",
    "    \n",
    "$S_X$ is *support* of $X$, i.e., $\\{\\mathcal{x} \\in \\mathcal{X}\\; |\\; p_X(\\mathcal{x}>0)\\}$"
   ]
  },
  {
   "cell_type": "markdown",
   "metadata": {},
   "source": [
    "- If $S_X = \\mathcal{X}$, we say that $p$ is *strictly positive*.\n",
    "\n",
    "- Non-strictly poitive distributions are *dangerous* -- see preprosition 2.12"
   ]
  }
 ],
 "metadata": {
  "kernelspec": {
   "display_name": "Python 3",
   "language": "python",
   "name": "python3"
  },
  "language_info": {
   "codemirror_mode": {
    "name": "ipython",
    "version": 3
   },
   "file_extension": ".py",
   "mimetype": "text/x-python",
   "name": "python",
   "nbconvert_exporter": "python",
   "pygments_lexer": "ipython3",
   "version": "3.6.5"
  }
 },
 "nbformat": 4,
 "nbformat_minor": 2
}
