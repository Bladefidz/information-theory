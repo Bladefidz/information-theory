{
 "cells": [
  {
   "cell_type": "markdown",
   "metadata": {},
   "source": [
    "# Assignment 1"
   ]
  },
  {
   "cell_type": "markdown",
   "metadata": {},
   "source": [
    "- Chapter 2, Problems 1, 2, 3, 4, 5, 8.\n",
    "\n",
    "- Skip the prrof of Theorem 2.10 for Problem 2"
   ]
  },
  {
   "cell_type": "markdown",
   "metadata": {},
   "source": [
    "## Chapter 2 Problem 1"
   ]
  },
  {
   "cell_type": "markdown",
   "metadata": {},
   "source": [
    "Let $X$ and $Y$ be random variables with alphabets $\\mathcal{X} = \\mathcal{Y} = \\{1,2,3,4,5\\}$ and joint distribution $p(x,y)$ given by\n",
    "\n",
    "  $$\\frac{1}{25}\\begin{bmatrix}1&1&1&1&1\\\\\n",
    "  2&1&2&0&0\\\\\n",
    "  2&0&1&1&1\\\\\n",
    "  0&3&0&2&0\\\\\n",
    "  0&0&1&1&3\\end{bmatrix}$$\n",
    "\n",
    "Calculate $H(X)$, $H(Y)$, $H(X|Y)$, $H(Y|X)$, and $I(X;Y)$"
   ]
  },
  {
   "cell_type": "code",
   "execution_count": 5,
   "metadata": {},
   "outputs": [],
   "source": [
    "import numpy as np\n",
    "\n",
    "_lambda = 1/25  # Multiplier\n",
    "p_xy = np.array([[1, 1, 1, 1, 1],\n",
    "                 [2, 1, 2, 0, 0],\n",
    "                 [2, 0, 1, 1, 1],\n",
    "                 [0, 3, 0, 2, 0],\n",
    "                 [0, 0, 1, 1, 3]])  # Joint probability of x and y"
   ]
  },
  {
   "cell_type": "code",
   "execution_count": 12,
   "metadata": {},
   "outputs": [
    {
     "name": "stdout",
     "output_type": "stream",
     "text": [
      "Marginal distribution of x: [0.2 0.2 0.2 0.2 0.2]\n",
      "Marginal distribution of y: [0.2 0.2 0.2 0.2 0.2]\n"
     ]
    }
   ],
   "source": [
    "pr_x = _lambda * p_xy.sum(axis=0)  # Marginal distribution of x\n",
    "print(\"Marginal distribution of x:\", pr_x)\n",
    "\n",
    "pr_y = _lambda * p_xy.sum(axis=1)  # Marginal distribution of y\n",
    "print(\"Marginal distribution of y:\", pr_y)"
   ]
  },
  {
   "cell_type": "code",
   "execution_count": 11,
   "metadata": {},
   "outputs": [],
   "source": [
    "import math\n",
    "\n",
    "def marginalEntropy(margDist):\n",
    "    # margDist is numpy array of marginal distribution\n",
    "    return np.sum(np.sum(-dist * np.log2(dist) for dist in margDist))"
   ]
  },
  {
   "cell_type": "code",
   "execution_count": 13,
   "metadata": {},
   "outputs": [
    {
     "name": "stdout",
     "output_type": "stream",
     "text": [
      "Marginal entropy of x: 2.321928094887362\n",
      "Marginal entropy of y: 2.321928094887362\n"
     ]
    }
   ],
   "source": [
    "h_x = marginalEntropy(pr_x)\n",
    "print(\"Marginal entropy of x:\", h_x)\n",
    "\n",
    "h_y = marginalEntropy(pr_y)\n",
    "print(\"Marginal entropy of y:\", h_y)"
   ]
  },
  {
   "cell_type": "code",
   "execution_count": null,
   "metadata": {},
   "outputs": [],
   "source": []
  },
  {
   "cell_type": "code",
   "execution_count": null,
   "metadata": {},
   "outputs": [],
   "source": []
  },
  {
   "cell_type": "code",
   "execution_count": null,
   "metadata": {},
   "outputs": [],
   "source": []
  },
  {
   "cell_type": "markdown",
   "metadata": {},
   "source": [
    "## Chapter 2 Problem 2 – Proposition 2.8"
   ]
  },
  {
   "cell_type": "markdown",
   "metadata": {},
   "source": []
  },
  {
   "cell_type": "markdown",
   "metadata": {},
   "source": []
  },
  {
   "cell_type": "markdown",
   "metadata": {},
   "source": [
    "## Chapter 2 Problem 2 – Proposition 2.9"
   ]
  },
  {
   "cell_type": "markdown",
   "metadata": {},
   "source": []
  },
  {
   "cell_type": "markdown",
   "metadata": {},
   "source": []
  },
  {
   "cell_type": "markdown",
   "metadata": {},
   "source": [
    "## Chapter 2 Problem 2 – Proposition 2.19"
   ]
  },
  {
   "cell_type": "markdown",
   "metadata": {},
   "source": []
  },
  {
   "cell_type": "markdown",
   "metadata": {},
   "source": []
  },
  {
   "cell_type": "markdown",
   "metadata": {},
   "source": [
    "## Chapter 2 Problem 2 – Proposition 2.21"
   ]
  },
  {
   "cell_type": "markdown",
   "metadata": {},
   "source": []
  },
  {
   "cell_type": "markdown",
   "metadata": {},
   "source": []
  },
  {
   "cell_type": "markdown",
   "metadata": {},
   "source": [
    "## Chapter 2 Problem 2 – Proposition 2.22"
   ]
  },
  {
   "cell_type": "markdown",
   "metadata": {},
   "source": []
  },
  {
   "cell_type": "markdown",
   "metadata": {},
   "source": []
  },
  {
   "cell_type": "markdown",
   "metadata": {},
   "source": [
    "## Chapter 2 Problem 3"
   ]
  },
  {
   "cell_type": "markdown",
   "metadata": {},
   "source": []
  },
  {
   "cell_type": "markdown",
   "metadata": {},
   "source": []
  },
  {
   "cell_type": "markdown",
   "metadata": {},
   "source": [
    "## Chapter 2 Problem 4"
   ]
  },
  {
   "cell_type": "markdown",
   "metadata": {},
   "source": []
  },
  {
   "cell_type": "markdown",
   "metadata": {},
   "source": []
  },
  {
   "cell_type": "markdown",
   "metadata": {},
   "source": [
    "##  Chapter 2 Problem 5"
   ]
  },
  {
   "cell_type": "markdown",
   "metadata": {},
   "source": []
  },
  {
   "cell_type": "markdown",
   "metadata": {},
   "source": []
  },
  {
   "cell_type": "markdown",
   "metadata": {},
   "source": [
    "## Chapter 2 Problem 8"
   ]
  },
  {
   "cell_type": "markdown",
   "metadata": {},
   "source": []
  },
  {
   "cell_type": "markdown",
   "metadata": {},
   "source": []
  }
 ],
 "metadata": {
  "kernelspec": {
   "display_name": "Python 3",
   "language": "python",
   "name": "python3"
  },
  "language_info": {
   "codemirror_mode": {
    "name": "ipython",
    "version": 3
   },
   "file_extension": ".py",
   "mimetype": "text/x-python",
   "name": "python",
   "nbconvert_exporter": "python",
   "pygments_lexer": "ipython3",
   "version": "3.6.5"
  }
 },
 "nbformat": 4,
 "nbformat_minor": 2
}
